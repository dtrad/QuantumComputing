{
  "cells": [
    {
      "cell_type": "markdown",
      "metadata": {
        "id": "C6X9I0Mjdnpy"
      },
      "source": [
        "# CHAPTER 2 - The Tools of the Trade in Quantum Computing - PennyLane Code"
      ]
    },
    {
      "cell_type": "markdown",
      "metadata": {
        "id": "J_L0y3qfd1nW"
      },
      "source": [
        "*Note*: You may skip the following three cells if you have alredy installed the right versions of all the libraries mentioned in *Appendix D*. This will likely NOT be the case if you are running this notebook on a cloud service such as Google Colab.\n",
        "\n"
      ]
    },
    {
      "cell_type": "code",
      "execution_count": 2,
      "metadata": {
        "id": "IL8LawPgdl8Q"
      },
      "outputs": [],
      "source": [
        "#pip install pennylane==0.26"
      ]
    },
    {
      "cell_type": "code",
      "execution_count": 3,
      "metadata": {
        "id": "iJn9StQOScS4"
      },
      "outputs": [],
      "source": [
        "#pip install qiskit==0.39.2"
      ]
    },
    {
      "cell_type": "code",
      "execution_count": 4,
      "metadata": {
        "id": "r2PJyP7A0m8q"
      },
      "outputs": [],
      "source": [
        "#pip install pennylane-qiskit==0.24.0"
      ]
    },
    {
      "cell_type": "code",
      "execution_count": 2,
      "metadata": {
        "id": "VJhmhFS9fGf0"
      },
      "outputs": [],
      "source": [
        "import pennylane as qml"
      ]
    },
    {
      "cell_type": "code",
      "execution_count": 3,
      "metadata": {
        "id": "vrl6Z5QKfU81"
      },
      "outputs": [],
      "source": [
        "dev = qml.device('default.qubit', wires = 2)"
      ]
    },
    {
      "cell_type": "code",
      "execution_count": 4,
      "metadata": {
        "id": "qfk0w-6lfVa2"
      },
      "outputs": [],
      "source": [
        "def qc():\n",
        "    qml.PauliX(wires = 0)\n",
        "    qml.Hadamard(wires = 0)\n",
        "    return qml.state()"
      ]
    },
    {
      "cell_type": "code",
      "execution_count": 5,
      "metadata": {
        "id": "4jywiOd2flkz"
      },
      "outputs": [
        {
          "data": {
            "text/plain": [
              "tensor([ 0.70710678+0.j,  0.        +0.j, -0.70710678+0.j,\n",
              "         0.        +0.j], requires_grad=True)"
            ]
          },
          "execution_count": 5,
          "metadata": {},
          "output_type": "execute_result"
        }
      ],
      "source": [
        "qcirc = qml.QNode(qc, dev) # Assemble the circuit & the device.\n",
        "qcirc() # Run it!"
      ]
    },
    {
      "cell_type": "code",
      "execution_count": 6,
      "metadata": {
        "id": "8cGH54ejfmV5"
      },
      "outputs": [
        {
          "data": {
            "text/plain": [
              "tensor([ 0.70710678+0.j,  0.        +0.j, -0.70710678+0.j,\n",
              "         0.        +0.j], requires_grad=True)"
            ]
          },
          "execution_count": 6,
          "metadata": {},
          "output_type": "execute_result"
        }
      ],
      "source": [
        "@qml.qnode(dev) # We add this decorator to use the device dev.\n",
        "def qcirc():\n",
        "    qml.PauliX(wires = 0)\n",
        "    qml.Hadamard(wires = 0)\n",
        "    return qml.state()\n",
        "    \n",
        "# Now qcirc is already a QNode. We can just run it!\n",
        "qcirc()"
      ]
    },
    {
      "cell_type": "code",
      "execution_count": 7,
      "metadata": {
        "id": "h3Q6ewMxf7Oz"
      },
      "outputs": [],
      "source": [
        "dev = qml.device('default.qubit', wires = 1)\n",
        "@qml.qnode(dev)\n",
        "def qcirc(theta):\n",
        "    qml.RX(theta, wires = 0)\n",
        "    return qml.state()"
      ]
    },
    {
      "cell_type": "code",
      "execution_count": 8,
      "metadata": {
        "id": "8eg3Rex_f-8Q"
      },
      "outputs": [
        {
          "name": "stdout",
          "output_type": "stream",
          "text": [
            "0: ──RX(2.00)─┤  State\n"
          ]
        }
      ],
      "source": [
        "print(qml.draw(qcirc)(theta = 2))"
      ]
    },
    {
      "cell_type": "code",
      "execution_count": 9,
      "metadata": {
        "id": "iURSusrEgECx"
      },
      "outputs": [
        {
          "name": "stdout",
          "output_type": "stream",
          "text": [
            "Probs. wires [1, 2] with H in wire 1: [0.5 0.  0.5 0. ]\n",
            "Sample 1 after H: [0 1 1 1]\n",
            "Sample 2 after H x I: [[1 0]\n",
            " [1 0]\n",
            " [0 0]\n",
            " [0 0]]\n"
          ]
        }
      ],
      "source": [
        "dev = qml.device('default.qubit', wires = 3)\n",
        "\n",
        "# Get probabilities\n",
        "@qml.qnode(dev)\n",
        "def qcirc():\n",
        "    qml.Hadamard(wires = 1)\n",
        "    return qml.probs(wires = [1, 2]) # Only the last 2 wires.\n",
        "prob = qcirc()\n",
        "print(\"Probs. wires [1, 2] with H in wire 1:\", prob)\n",
        "\n",
        "# Get a sample, not having specified shots in the device.\n",
        "@qml.qnode(dev)\n",
        "def qcirc():\n",
        "    qml.Hadamard(wires = 0)\n",
        "    return qml.sample(wires = 0) # Only the first wire.\n",
        "s1 = qcirc(shots = 4) # We specify the shots here.\n",
        "print(\"Sample 1 after H:\", s1)\n",
        "\n",
        "# Get a sample with shots in the device.\n",
        "dev = qml.device('default.qubit', wires = 2, shots = 4)\n",
        "@qml.qnode(dev)\n",
        "def qcirc():\n",
        "    qml.Hadamard(wires=0)\n",
        "    return qml.sample() # Will sample all wires.\n",
        "s2 = qcirc()\n",
        "print(\"Sample 2 after H x I:\", s2)"
      ]
    },
    {
      "cell_type": "code",
      "execution_count": 10,
      "metadata": {
        "id": "yJ1Oc1Q6gOPN"
      },
      "outputs": [
        {
          "name": "stdout",
          "output_type": "stream",
          "text": [
            "The probabilities are [0.50292969 0.49707031]\n"
          ]
        }
      ],
      "source": [
        "dev = qml.device('qiskit.aer', wires = 2)\n",
        "@qml.qnode(dev)\n",
        "def qcirc():\n",
        "    qml.Hadamard(wires = 0)\n",
        "    return qml.probs(wires = 0)\n",
        "s = qcirc()\n",
        "print(\"The probabilities are\", s)"
      ]
    },
    {
      "cell_type": "markdown",
      "metadata": {
        "id": "VW0v33UbgyYD"
      },
      "source": [
        "*Note*: In the following cell, you need to replace \"1234\" with your actual IBM token. Refer to *Appendix D* in the book for instructions on how to create an account and get your token. Be very careful not to disclose your token to anyone!"
      ]
    },
    {
      "cell_type": "code",
      "execution_count": 11,
      "metadata": {
        "id": "UOakFM20hl09"
      },
      "outputs": [],
      "source": [
        "#ibm_token = \"1234\""
      ]
    },
    {
      "cell_type": "code",
      "execution_count": 13,
      "metadata": {},
      "outputs": [
        {
          "name": "stderr",
          "output_type": "stream",
          "text": [
            "ibmqfactory.load_account:WARNING:2023-06-16 19:39:55,100: Credentials are already in use. The existing account in the session will be replaced.\n"
          ]
        }
      ],
      "source": [
        "prov = IBMQ.load_account()"
      ]
    },
    {
      "cell_type": "code",
      "execution_count": 14,
      "metadata": {
        "id": "X9RsDG_hglVb"
      },
      "outputs": [
        {
          "ename": "IBMAccountError",
          "evalue": "'No active IBM Q account, and no IBM Q token provided.'",
          "output_type": "error",
          "traceback": [
            "\u001b[0;31m---------------------------------------------------------------------------\u001b[0m",
            "\u001b[0;31mIBMAccountError\u001b[0m                           Traceback (most recent call last)",
            "Cell \u001b[0;32mIn[14], line 13\u001b[0m\n\u001b[1;32m     10\u001b[0m bck \u001b[39m=\u001b[39m least_busy(prov\u001b[39m.\u001b[39mbackends(simulator \u001b[39m=\u001b[39m \u001b[39mFalse\u001b[39;00m))\u001b[39m.\u001b[39mname()\n\u001b[1;32m     12\u001b[0m \u001b[39m# Invoke the PennyLane IBMQ device.\u001b[39;00m\n\u001b[0;32m---> 13\u001b[0m dev \u001b[39m=\u001b[39m qml\u001b[39m.\u001b[39;49mdevice(\u001b[39m'\u001b[39;49m\u001b[39mqiskit.ibmq\u001b[39;49m\u001b[39m'\u001b[39;49m, wires \u001b[39m=\u001b[39;49m \u001b[39m1\u001b[39;49m,\n\u001b[1;32m     14\u001b[0m     backend \u001b[39m=\u001b[39;49m bck, provider \u001b[39m=\u001b[39;49m prov)\n\u001b[1;32m     16\u001b[0m \u001b[39m# Send a circuit and get some results!\u001b[39;00m\n\u001b[1;32m     17\u001b[0m \u001b[39m@qml\u001b[39m\u001b[39m.\u001b[39mqnode(dev)\n\u001b[1;32m     18\u001b[0m \u001b[39mdef\u001b[39;00m \u001b[39mqcirc\u001b[39m():\n",
            "File \u001b[0;32m~/anaconda3/envs/quantum/lib/python3.10/site-packages/pennylane/__init__.py:326\u001b[0m, in \u001b[0;36mdevice\u001b[0;34m(name, *args, **kwargs)\u001b[0m\n\u001b[1;32m    320\u001b[0m     \u001b[39mraise\u001b[39;00m DeviceError(\n\u001b[1;32m    321\u001b[0m         \u001b[39mf\u001b[39m\u001b[39m\"\u001b[39m\u001b[39mThe \u001b[39m\u001b[39m{\u001b[39;00mname\u001b[39m}\u001b[39;00m\u001b[39m plugin requires PennyLane versions \u001b[39m\u001b[39m{\u001b[39;00mplugin_device_class\u001b[39m.\u001b[39mpennylane_requires\u001b[39m}\u001b[39;00m\u001b[39m, \u001b[39m\u001b[39m\"\u001b[39m\n\u001b[1;32m    322\u001b[0m         \u001b[39mf\u001b[39m\u001b[39m\"\u001b[39m\u001b[39mhowever PennyLane version \u001b[39m\u001b[39m{\u001b[39;00m__version__\u001b[39m}\u001b[39;00m\u001b[39m is installed.\u001b[39m\u001b[39m\"\u001b[39m\n\u001b[1;32m    323\u001b[0m     )\n\u001b[1;32m    325\u001b[0m \u001b[39m# Construct the device\u001b[39;00m\n\u001b[0;32m--> 326\u001b[0m dev \u001b[39m=\u001b[39m plugin_device_class(\u001b[39m*\u001b[39;49margs, \u001b[39m*\u001b[39;49m\u001b[39m*\u001b[39;49moptions)\n\u001b[1;32m    328\u001b[0m \u001b[39m# Once the device is constructed, we set its custom expansion function if\u001b[39;00m\n\u001b[1;32m    329\u001b[0m \u001b[39m# any custom decompositions were specified.\u001b[39;00m\n\u001b[1;32m    330\u001b[0m \u001b[39mif\u001b[39;00m custom_decomps \u001b[39mis\u001b[39;00m \u001b[39mnot\u001b[39;00m \u001b[39mNone\u001b[39;00m:\n",
            "File \u001b[0;32m~/anaconda3/envs/quantum/lib/python3.10/site-packages/pennylane_qiskit/ibmq.py:77\u001b[0m, in \u001b[0;36mIBMQDevice.__init__\u001b[0;34m(self, wires, provider, backend, shots, timeout_secs, **kwargs)\u001b[0m\n\u001b[1;32m     67\u001b[0m \u001b[39mdef\u001b[39;00m \u001b[39m__init__\u001b[39m(\n\u001b[1;32m     68\u001b[0m     \u001b[39mself\u001b[39m,\n\u001b[1;32m     69\u001b[0m     wires,\n\u001b[0;32m   (...)\u001b[0m\n\u001b[1;32m     75\u001b[0m ):  \u001b[39m# pylint:disable=too-many-arguments\u001b[39;00m\n\u001b[1;32m     76\u001b[0m     \u001b[39m# Connection to IBMQ\u001b[39;00m\n\u001b[0;32m---> 77\u001b[0m     connect(kwargs)\n\u001b[1;32m     79\u001b[0m     hub \u001b[39m=\u001b[39m kwargs\u001b[39m.\u001b[39mget(\u001b[39m\"\u001b[39m\u001b[39mhub\u001b[39m\u001b[39m\"\u001b[39m, \u001b[39m\"\u001b[39m\u001b[39mibm-q\u001b[39m\u001b[39m\"\u001b[39m)\n\u001b[1;32m     80\u001b[0m     group \u001b[39m=\u001b[39m kwargs\u001b[39m.\u001b[39mget(\u001b[39m\"\u001b[39m\u001b[39mgroup\u001b[39m\u001b[39m\"\u001b[39m, \u001b[39m\"\u001b[39m\u001b[39mopen\u001b[39m\u001b[39m\"\u001b[39m)\n",
            "File \u001b[0;32m~/anaconda3/envs/quantum/lib/python3.10/site-packages/pennylane_qiskit/ibmq.py:138\u001b[0m, in \u001b[0;36mconnect\u001b[0;34m(kwargs)\u001b[0m\n\u001b[1;32m    136\u001b[0m \u001b[39mif\u001b[39;00m \u001b[39mnot\u001b[39;00m token:\n\u001b[1;32m    137\u001b[0m     \u001b[39mif\u001b[39;00m \u001b[39mnot\u001b[39;00m saved_accounts:\n\u001b[0;32m--> 138\u001b[0m         \u001b[39mraise\u001b[39;00m IBMAccountError(\u001b[39m\"\u001b[39m\u001b[39mNo active IBM Q account, and no IBM Q token provided.\u001b[39m\u001b[39m\"\u001b[39m)\n\u001b[1;32m    139\u001b[0m     \u001b[39mtry\u001b[39;00m:\n\u001b[1;32m    140\u001b[0m         IBMProvider(url\u001b[39m=\u001b[39murl, instance\u001b[39m=\u001b[39minstance)\n",
            "\u001b[0;31mIBMAccountError\u001b[0m: 'No active IBM Q account, and no IBM Q token provided.'"
          ]
        }
      ],
      "source": [
        "# Import the modules.\n",
        "from qiskit import *\n",
        "from qiskit.providers.ibmq import *\n",
        "\n",
        "# Save our token if we haven't already.\n",
        "#IBMQ.save_account(ibm_token)\n",
        "\n",
        "# Load the account and get the name of the least busy backend.\n",
        "# prov = IBMQ.load_account()\n",
        "bck = least_busy(prov.backends(simulator = False)).name()\n",
        "\n",
        "# Invoke the PennyLane IBMQ device.\n",
        "dev = qml.device('qiskit.ibmq', wires = 1,\n",
        "    backend = bck, provider = prov)\n",
        "\n",
        "# Send a circuit and get some results!\n",
        "@qml.qnode(dev)\n",
        "def qcirc():\n",
        "    qml.Hadamard(wires = 0)\n",
        "    return qml.probs(wires = 0)\n",
        "print(qcirc())"
      ]
    },
    {
      "cell_type": "code",
      "execution_count": null,
      "metadata": {},
      "outputs": [],
      "source": []
    }
  ],
  "metadata": {
    "colab": {
      "provenance": []
    },
    "kernelspec": {
      "display_name": "Python 3 (ipykernel)",
      "language": "python",
      "name": "python3"
    },
    "language_info": {
      "codemirror_mode": {
        "name": "ipython",
        "version": 3
      },
      "file_extension": ".py",
      "mimetype": "text/x-python",
      "name": "python",
      "nbconvert_exporter": "python",
      "pygments_lexer": "ipython3",
      "version": "3.10.8"
    }
  },
  "nbformat": 4,
  "nbformat_minor": 0
}
