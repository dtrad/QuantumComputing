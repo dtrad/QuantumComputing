{
  "nbformat": 4,
  "nbformat_minor": 0,
  "metadata": {
    "colab": {
      "provenance": []
    },
    "kernelspec": {
      "name": "python3",
      "display_name": "Python 3"
    },
    "language_info": {
      "name": "python"
    }
  },
  "cells": [
    {
      "cell_type": "markdown",
      "source": [
        "# CHAPTER 3 - Working with Quadratic Unconstrained Binary Optimization Problems"
      ],
      "metadata": {
        "id": "UmvGv70AUVA3"
      }
    },
    {
      "cell_type": "markdown",
      "source": [
        "*Note*: You may skip the following cell if you have alredy installed the right versions of all the libraries mentioned in *Appendix D*. This will likely NOT be the case if you are running this notebook on a cloud service such as Google Colab."
      ],
      "metadata": {
        "id": "aP-Bp7kkUgDJ"
      }
    },
    {
      "cell_type": "code",
      "execution_count": null,
      "metadata": {
        "id": "CZnFNAaeYIn0"
      },
      "outputs": [],
      "source": [
        "pip install qiskit==0.39.2"
      ]
    },
    {
      "cell_type": "code",
      "source": [
        "from qiskit.quantum_info import Statevector\n",
        "zero = Statevector([1,0])\n",
        "print(\"zero is\", zero)"
      ],
      "metadata": {
        "id": "Gjx-nOMxYwii"
      },
      "execution_count": null,
      "outputs": []
    },
    {
      "cell_type": "code",
      "source": [
        "one = Statevector([0,1])\n",
        "print(\"one is\",one)"
      ],
      "metadata": {
        "id": "En0aSXKQYxoJ"
      },
      "execution_count": null,
      "outputs": []
    },
    {
      "cell_type": "code",
      "source": [
        "zero = Statevector.from_int(0, dims = 2)\n",
        "one = Statevector.from_int(1, dims = 2)\n",
        "print(\"zero is\",zero)\n",
        "print(\"one is\",one)"
      ],
      "metadata": {
        "id": "T9MKfavZY7rZ"
      },
      "execution_count": null,
      "outputs": []
    },
    {
      "cell_type": "code",
      "source": [
        "psi = one.tensor(zero.tensor(zero))\n",
        "print(\"psi is\",psi)"
      ],
      "metadata": {
        "id": "fMLAvqhHY-qi"
      },
      "execution_count": null,
      "outputs": []
    },
    {
      "cell_type": "code",
      "source": [
        "psi = one^zero^zero\n",
        "psi.draw(\"latex\")"
      ],
      "metadata": {
        "id": "GVaxcff6ZCuq"
      },
      "execution_count": null,
      "outputs": []
    },
    {
      "cell_type": "code",
      "source": [
        "psi = Statevector.from_int(4, dims = 8)\n"
      ],
      "metadata": {
        "id": "GLDLHezZZHl3"
      },
      "execution_count": null,
      "outputs": []
    },
    {
      "cell_type": "code",
      "source": [
        "from numpy import sqrt\n",
        "ghz = 1/sqrt(2)*(zero^zero^zero) + 1/sqrt(2)*(one^one^one)"
      ],
      "metadata": {
        "id": "FuDU-1mvZLii"
      },
      "execution_count": null,
      "outputs": []
    },
    {
      "cell_type": "code",
      "source": [
        "from qiskit.quantum_info import Pauli\n",
        "Z0Z1 = Pauli(\"ZZI\")\n",
        "print(\"Z0Z1 is\",Z0Z1)\n",
        "print(\"And its matrix is\")\n",
        "print(Z0Z1.to_matrix())"
      ],
      "metadata": {
        "id": "ZB20QWVCZRTn"
      },
      "execution_count": null,
      "outputs": []
    },
    {
      "cell_type": "code",
      "source": [
        "print(\"The sparse representation of Z0Z1 is\")\n",
        "print(Z0Z1.to_matrix(sparse=True))"
      ],
      "metadata": {
        "id": "MvMceulAZUeG"
      },
      "execution_count": null,
      "outputs": []
    },
    {
      "cell_type": "code",
      "source": [
        "Z0Z1 = Pauli(([0,1,1],[0,0,0]))\n"
      ],
      "metadata": {
        "id": "ZqUHzFDLZZoj"
      },
      "execution_count": null,
      "outputs": []
    },
    {
      "cell_type": "code",
      "source": [
        "from qiskit.opflow.primitive_ops import PauliOp\n",
        "H_cut = PauliOp(Pauli(\"ZZI\")) + PauliOp(Pauli(\"ZIZ\"))\n",
        "print(\"H_cut is\")\n",
        "print(H_cut)\n",
        "print(\"The sparse representation of H_cut is\")\n",
        "print(H_cut.to_spmatrix())"
      ],
      "metadata": {
        "id": "pSJUs9XkZcQi"
      },
      "execution_count": null,
      "outputs": []
    },
    {
      "cell_type": "code",
      "source": [
        "from qiskit.opflow import I, Z\n",
        "H_cut = (Z^Z^I) + (Z^I^Z)\n",
        "print(\"H_cut is\")\n",
        "print(H_cut)"
      ],
      "metadata": {
        "id": "Y99EIyG4ZfMD"
      },
      "execution_count": null,
      "outputs": []
    },
    {
      "cell_type": "code",
      "source": [
        "H_ising = -0.5*(Z^Z^I) + 2*(Z^I^Z) -(I^Z^Z) + (I^Z^I) -5*(I^I^Z)\n"
      ],
      "metadata": {
        "id": "YWGLJ_ihZiOI"
      },
      "execution_count": null,
      "outputs": []
    },
    {
      "cell_type": "code",
      "source": [
        "print(\"The expectation value is\", psi.expectation_value(H_cut))\n"
      ],
      "metadata": {
        "id": "3LT0fPr_ZlYs"
      },
      "execution_count": null,
      "outputs": []
    },
    {
      "cell_type": "code",
      "source": [
        "print(\"The expectation value is\", psi.inner(psi.evolve(H_cut)))\n"
      ],
      "metadata": {
        "id": "AIco0JrvZoHw"
      },
      "execution_count": null,
      "outputs": []
    },
    {
      "cell_type": "code",
      "source": [
        "from qiskit.quantum_info import Pauli\n",
        "from qiskit.opflow.primitive_ops import PauliOp\n",
        "from qiskit.quantum_info import Statevector\n",
        "H_cut = PauliOp(Pauli(\"ZZI\")) + PauliOp(Pauli(\"ZIZ\"))\n",
        "for x in range(8): # We consider x=0,1...7\n",
        "    psi = psi = Statevector.from_int(x, dims = 8)\n",
        "    print(\"The expectation value of |\",x,\">\", \"is\", \n",
        "        psi.expectation_value(H_cut))"
      ],
      "metadata": {
        "id": "yuJbekb5Zrys"
      },
      "execution_count": null,
      "outputs": []
    }
  ]
}