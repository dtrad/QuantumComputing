{
  "cells": [
    {
      "cell_type": "markdown",
      "metadata": {
        "id": "C6X9I0Mjdnpy"
      },
      "source": [
        "# CHAPTER 2 - The Tools of the Trade in Quantum Computing - Qiskit Code"
      ]
    },
    {
      "cell_type": "markdown",
      "metadata": {
        "id": "J_L0y3qfd1nW"
      },
      "source": [
        "*Note*: You may skip the following two cells if you have alredy installed the right versions of all the libraries mentioned in *Appendix D*. This will likely NOT be the case if you are running this notebook on a cloud service such as Google Colab."
      ]
    },
    {
      "cell_type": "code",
      "execution_count": null,
      "metadata": {
        "id": "IL8LawPgdl8Q"
      },
      "outputs": [],
      "source": [
        "pip install qiskit==0.39.2"
      ]
    },
    {
      "cell_type": "code",
      "execution_count": null,
      "metadata": {
        "id": "wR9Ys7ySfsvX"
      },
      "outputs": [],
      "source": [
        "pip install pylatexenc==2.10"
      ]
    },
    {
      "cell_type": "code",
      "execution_count": null,
      "metadata": {
        "id": "VJhmhFS9fGf0"
      },
      "outputs": [],
      "source": [
        "from qiskit import *"
      ]
    },
    {
      "cell_type": "code",
      "execution_count": null,
      "metadata": {
        "id": "vrl6Z5QKfU81"
      },
      "outputs": [],
      "source": [
        "qreg1 = QuantumRegister(size = 2, name = \"qrg1\")\n",
        "qreg2 = QuantumRegister(1, \"qrg2\")\n",
        "creg = ClassicalRegister(1, \"oldschool\")\n",
        "\n",
        "qc = QuantumCircuit(qreg1, creg, qreg2)"
      ]
    },
    {
      "cell_type": "code",
      "execution_count": null,
      "metadata": {
        "id": "qfk0w-6lfVa2"
      },
      "outputs": [],
      "source": [
        "qc.draw()"
      ]
    },
    {
      "cell_type": "code",
      "execution_count": null,
      "metadata": {
        "id": "4jywiOd2flkz"
      },
      "outputs": [],
      "source": [
        "import numpy as np\n",
        "\n",
        "qc = QuantumCircuit(2) # Initialise the circuit.\n",
        "\n",
        "# We can now apply the gates sequentially.\n",
        "qc.x(0)\n",
        "qc.rx(np.pi/4, 1)\n",
        "qc.cx(0, 1)\n",
        "qc.u(np.pi/3, 0, np.pi, 0)\n",
        "\n",
        "qc.draw(\"mpl\")"
      ]
    },
    {
      "cell_type": "code",
      "execution_count": null,
      "metadata": {
        "id": "8cGH54ejfmV5"
      },
      "outputs": [],
      "source": [
        "from qiskit.providers.aer import AerSimulator"
      ]
    },
    {
      "cell_type": "code",
      "execution_count": null,
      "metadata": {
        "id": "h3Q6ewMxf7Oz"
      },
      "outputs": [],
      "source": [
        "sim = AerSimulator()\n",
        "sim_GPU = AerSimulator(device = 'GPU')"
      ]
    },
    {
      "cell_type": "code",
      "execution_count": null,
      "metadata": {
        "id": "8eg3Rex_f-8Q"
      },
      "outputs": [],
      "source": [
        "qc = QuantumCircuit(2, 2)\n",
        "qc.h(0)\n",
        "qc.measure(range(2), range(2))\n",
        "\n",
        "job = execute(qc, sim, shots = 1024)\n",
        "result = job.result()\n",
        "counts = result.get_counts()\n",
        "print(counts)"
      ]
    },
    {
      "cell_type": "code",
      "execution_count": null,
      "metadata": {
        "id": "iURSusrEgECx"
      },
      "outputs": [],
      "source": [
        "from qiskit.visualization import *\n",
        "plot_histogram(counts)"
      ]
    },
    {
      "cell_type": "code",
      "execution_count": null,
      "metadata": {
        "id": "yJ1Oc1Q6gOPN"
      },
      "outputs": [],
      "source": [
        "qc = QuantumCircuit(2, 2)\n",
        "qc.h(0)\n",
        "qc.save_statevector()\n",
        "qc.measure(0,0)\n",
        "qc.measure(1,1)\n",
        "\n",
        "result = execute(qc, sim, shots = 1024).result()\n",
        "sv = result.get_statevector()\n",
        "print(sv)\n",
        "counts = result.get_counts()\n",
        "print(counts)"
      ]
    },
    {
      "cell_type": "code",
      "execution_count": null,
      "metadata": {
        "id": "ldaUUGyfgRvO"
      },
      "outputs": [],
      "source": [
        "sim_u = AerSimulator(method = 'unitary')\n",
        "\n",
        "qc = QuantumCircuit(1)\n",
        "qc.h(0)\n",
        "qc.save_unitary()\n",
        "\n",
        "result = execute(qc, sim_u).result()\n",
        "U = result.get_unitary(decimals = 4)\n",
        "print(U)"
      ]
    },
    {
      "cell_type": "markdown",
      "metadata": {
        "id": "VW0v33UbgyYD"
      },
      "source": [
        "*Note*: In the following cell, you need to replace \"1234\" with your actual IBM token. Refer to *Appendix D* in the book for instructions on how to create an account and get your token. Be very careful not to disclose your token to anyone!"
      ]
    },
    {
      "cell_type": "code",
      "execution_count": null,
      "metadata": {
        "id": "UOakFM20hl09"
      },
      "outputs": [],
      "source": [
        "ibm_token=\"1234\"\n",
        "IBMQ.save_account(ibm_token)"
      ]
    },
    {
      "cell_type": "code",
      "execution_count": null,
      "metadata": {
        "id": "X9RsDG_hglVb"
      },
      "outputs": [],
      "source": [
        "provider = IBMQ.load_account()\n",
        "print(provider.backends(simulator = False))"
      ]
    },
    {
      "cell_type": "code",
      "execution_count": null,
      "metadata": {
        "id": "2ziaDYnmgWtR"
      },
      "outputs": [],
      "source": [
        "dev_list = provider.backends(\n",
        "    filters = lambda x: x.configuration().n_qubits >= 5,\n",
        "    simulator = False)"
      ]
    },
    {
      "cell_type": "code",
      "execution_count": null,
      "metadata": {
        "id": "KGMdoYOpgdST"
      },
      "outputs": [],
      "source": [
        "from qiskit.providers.ibmq import *\n",
        "dev = least_busy(dev_list)"
      ]
    },
    {
      "cell_type": "code",
      "execution_count": null,
      "metadata": {
        "id": "OMzyNPDqiH8S"
      },
      "outputs": [],
      "source": [
        "from qiskit.providers.ibmq.job import job_monitor\n",
        "\n",
        "# Let us set up a simple circuit.\n",
        "qc = QuantumCircuit(2)\n",
        "qc.h(0)\n",
        "qc.cx(0,1)\n",
        "qc.measure_all()\n",
        "\n",
        "# First, we run the circuit using the statevector simulator.\n",
        "sim = AerSimulator()\n",
        "result = execute(qc, sim, shots = 1024).result()\n",
        "counts_sim = result.get_counts()\n",
        "\n",
        "# Now we run it on the real device that we selected before.\n",
        "job = execute(qc, dev, shots = 1024)\n",
        "job_monitor(job)\n",
        "\n",
        "result = job.result()\n",
        "counts_dev = result.get_counts()"
      ]
    },
    {
      "cell_type": "code",
      "execution_count": null,
      "metadata": {
        "id": "Iv3TVA1ViIyd"
      },
      "outputs": [],
      "source": [
        "print(counts_sim)\n",
        "print(counts_dev)"
      ]
    }
  ],
  "metadata": {
    "colab": {
      "provenance": []
    },
    "kernelspec": {
      "display_name": "Python 3 (ipykernel)",
      "language": "python",
      "name": "python3"
    },
    "language_info": {
      "codemirror_mode": {
        "name": "ipython",
        "version": 3
      },
      "file_extension": ".py",
      "mimetype": "text/x-python",
      "name": "python",
      "nbconvert_exporter": "python",
      "pygments_lexer": "ipython3",
      "version": "3.10.8"
    }
  },
  "nbformat": 4,
  "nbformat_minor": 0
}