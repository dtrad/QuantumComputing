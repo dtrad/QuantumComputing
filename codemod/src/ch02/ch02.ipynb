{
 "cells": [
  {
   "cell_type": "code",
   "execution_count": 1,
   "id": "3c248bb2",
   "metadata": {
    "ExecuteTime": {
     "end_time": "2024-03-31T18:00:55.107032Z",
     "start_time": "2024-03-31T18:00:55.098162Z"
    }
   },
   "outputs": [],
   "source": [
    "import sys\n",
    "sys.path.insert(0, '..')"
   ]
  },
  {
   "cell_type": "markdown",
   "id": "335c9e83",
   "metadata": {},
   "source": [
    "# Chapter 2: The Knapsack Problem"
   ]
  },
  {
   "cell_type": "code",
   "execution_count": 5,
   "id": "b172a64e0fcab530",
   "metadata": {
    "ExecuteTime": {
     "end_time": "2024-03-31T18:00:56.486901Z",
     "start_time": "2024-03-31T18:00:55.108832Z"
    }
   },
   "outputs": [],
   "source": [
    "from apps.knapsack import find_optimal_selection"
   ]
  },
  {
   "cell_type": "markdown",
   "id": "4fd6f86d41de422d",
   "metadata": {},
   "source": [
    "This function has three parameters: a list of item values, a list of item weights, and the maximum weight of selections we are looking for. We define the inputs for our example below:"
   ]
  },
  {
   "cell_type": "code",
   "execution_count": 6,
   "id": "714bcc25a2174236",
   "metadata": {
    "ExecuteTime": {
     "end_time": "2024-03-31T18:00:56.492011Z",
     "start_time": "2024-03-31T18:00:56.488897Z"
    }
   },
   "outputs": [],
   "source": [
    "values = [2, 3, 1]\n",
    "weights = [3, 2, 1]\n",
    "max_weight = 4"
   ]
  },
  {
   "cell_type": "markdown",
   "id": "b98b08a0af765efb",
   "metadata": {},
   "source": [
    "Let’s perform one function call with these inputs:"
   ]
  },
  {
   "cell_type": "code",
   "execution_count": 7,
   "id": "4b0559dbca2766c5",
   "metadata": {
    "ExecuteTime": {
     "end_time": "2024-03-31T18:00:56.750711Z",
     "start_time": "2024-03-31T18:00:56.493233Z"
    }
   },
   "outputs": [
    {
     "name": "stdout",
     "output_type": "stream",
     "text": [
      "\n",
      "Checking min value: 3\n",
      "\n",
      "Selection  Value  Binary  Weight  Binary  Magnitude  Direction  Amplitude Bar           \n",
      "----------------------------------------------------------------------------------------\n",
      "000        5      101     4       0100    0.1768        0.00°   \u001b[38;2;246;53;29m████                    \u001b[39m\n",
      "001        7      111     1       0001    0.1768        0.00°   \u001b[38;2;246;53;29m████                    \u001b[39m\n",
      "010        0      000     2       0010    0.5303      180.00°   \u001b[38;2;37;232;234m████████████            \u001b[39m\n",
      "011        2      010     15      1111    0.1768        0.00°   \u001b[38;2;246;53;29m████                    \u001b[39m\n",
      "100        6      110     3       0011    0.1768        0.00°   \u001b[38;2;246;53;29m████                    \u001b[39m\n",
      "101        0      000     0       0000    0.5303      180.00°   \u001b[38;2;37;232;234m████████████            \u001b[39m\n",
      "110        1      001     1       0001    0.5303      180.00°   \u001b[38;2;37;232;234m████████████            \u001b[39m\n",
      "111        3      011     14      1110    0.1768        0.00°   \u001b[38;2;246;53;29m████                    \u001b[39m\n",
      "\n",
      "\n",
      "Found selection 110 with value 4\n",
      "\n",
      "Checking min value: 5\n",
      "\n",
      "Selection  Value  Binary  Weight  Binary  Magnitude  Direction  Amplitude Bar           \n",
      "----------------------------------------------------------------------------------------\n",
      "000        11     1011    4       0100    0.3536      180.00°   \u001b[38;2;37;232;234m████████                \u001b[39m\n",
      "001        13     1101    1       0001    0.3536      180.00°   \u001b[38;2;37;232;234m████████                \u001b[39m\n",
      "010        14     1110    2       0010    0.3536      180.00°   \u001b[38;2;37;232;234m████████                \u001b[39m\n",
      "011        0      0000    15      1111    0.3536      180.00°   \u001b[38;2;37;232;234m████████                \u001b[39m\n",
      "100        12     1100    3       0011    0.3536      180.00°   \u001b[38;2;37;232;234m████████                \u001b[39m\n",
      "101        14     1110    0       0000    0.3536      180.00°   \u001b[38;2;37;232;234m████████                \u001b[39m\n",
      "110        15     1111    1       0001    0.3536      180.00°   \u001b[38;2;37;232;234m████████                \u001b[39m\n",
      "111        1      0001    14      1110    0.3536      180.00°   \u001b[38;2;37;232;234m████████                \u001b[39m\n",
      "\n"
     ]
    },
    {
     "data": {
      "text/plain": [
       "'Optimal selection consists of items 1, 2. The combined weight is 3, and the  combined value is 4.'"
      ]
     },
     "execution_count": 7,
     "metadata": {},
     "output_type": "execute_result"
    }
   ],
   "source": [
    "find_optimal_selection(values, weights, max_weight)"
   ]
  },
  {
   "cell_type": "code",
   "execution_count": null,
   "id": "3b143190",
   "metadata": {},
   "outputs": [],
   "source": []
  },
  {
   "cell_type": "code",
   "execution_count": null,
   "id": "0fefe939",
   "metadata": {},
   "outputs": [],
   "source": []
  }
 ],
 "metadata": {
  "kernelspec": {
   "display_name": "Python 3 (ipykernel)",
   "language": "python",
   "name": "python3"
  },
  "language_info": {
   "codemirror_mode": {
    "name": "ipython",
    "version": 3
   },
   "file_extension": ".py",
   "mimetype": "text/x-python",
   "name": "python",
   "nbconvert_exporter": "python",
   "pygments_lexer": "ipython3",
   "version": "3.12.3"
  }
 },
 "nbformat": 4,
 "nbformat_minor": 5
}
