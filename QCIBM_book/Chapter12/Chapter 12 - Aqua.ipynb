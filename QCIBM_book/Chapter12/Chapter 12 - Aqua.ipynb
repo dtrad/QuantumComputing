{
 "cells": [
  {
   "cell_type": "code",
   "execution_count": 1,
   "metadata": {},
   "outputs": [
    {
     "name": "stderr",
     "output_type": "stream",
     "text": [
      "/opt/conda/lib/python3.7/site-packages/qiskit/providers/ibmq/ibmqfactory.py:192: UserWarning: Timestamps in IBMQ backend properties, jobs, and job results are all now in local time instead of UTC.\n",
      "  warnings.warn('Timestamps in IBMQ backend properties, jobs, and job results '\n"
     ]
    }
   ],
   "source": [
    "%matplotlib inline\n",
    "# Importing standard Qiskit libraries and configuring account\n",
    "from qiskit import QuantumCircuit, execute, Aer, IBMQ\n",
    "from qiskit.compiler import transpile, assemble\n",
    "from qiskit.tools.jupyter import *\n",
    "from qiskit.visualization import *\n",
    "# Loading your IBM Q account(s)\n",
    "provider = IBMQ.load_account()"
   ]
  },
  {
   "cell_type": "markdown",
   "metadata": {},
   "source": [
    "# Chapter 12 - Qiskit Aqua"
   ]
  },
  {
   "cell_type": "code",
   "execution_count": 2,
   "metadata": {},
   "outputs": [],
   "source": [
    "from qiskit.aqua.components.initial_states import Custom\n",
    "init_state_0 = Custom(num_qubits=3, state='zero')\n",
    "init_state_uniform = Custom(num_qubits=3, state='uniform')\n",
    "init_state_random = Custom(num_qubits=3, state='random')\n"
   ]
  },
  {
   "cell_type": "code",
   "execution_count": 3,
   "metadata": {},
   "outputs": [
    {
     "data": {
      "image/png": "[encoded data removed]",
      "text/plain": [
       "<Figure size 140.777x204.68 with 1 Axes>"
      ]
     },
     "execution_count": 3,
     "metadata": {},
     "output_type": "execute_result"
    }
   ],
   "source": [
    "qc0 = init_state_0.construct_circuit(mode='circuit')\n",
    "qc0.draw()\n"
   ]
  },
  {
   "cell_type": "code",
   "execution_count": 4,
   "metadata": {},
   "outputs": [
    {
     "data": {
      "image/png": "[encoded data removed]",
      "text/plain": [
       "<Figure size 200.977x204.68 with 1 Axes>"
      ]
     },
     "execution_count": 4,
     "metadata": {},
     "output_type": "execute_result"
    }
   ],
   "source": [
    "qc1 = init_state_uniform.construct_circuit(mode='circuit')\n",
    "qc1.draw()\n"
   ]
  },
  {
   "cell_type": "code",
   "execution_count": 5,
   "metadata": {},
   "outputs": [
    {
     "data": {
      "image/png": "[encoded data removed]",
      "text/plain": [
       "<Figure size 1043.78x204.68 with 1 Axes>"
      ]
     },
     "execution_count": 5,
     "metadata": {},
     "output_type": "execute_result"
    }
   ],
   "source": [
    "qc2 = init_state_random.construct_circuit(mode='circuit')\n",
    "qc2.draw()\n"
   ]
  },
  {
   "cell_type": "code",
   "execution_count": 6,
   "metadata": {},
   "outputs": [
    {
     "data": {
      "image/png": "[encoded data removed]",
      "text/plain": [
       "<Figure size 261.032x144.48 with 1 Axes>"
      ]
     },
     "execution_count": 6,
     "metadata": {},
     "output_type": "execute_result"
    }
   ],
   "source": [
    "# Create the quantum circuit\n",
    "num_qubits = 2\n",
    "qc = QuantumCircuit(num_qubits)\n",
    "qc.h(0)\n",
    "qc.cx(0,1)\n",
    "# Construct the Custom class based on the built quantum circuit\n",
    "q_component = Custom(num_qubits=num_qubits, circuit=qc)\n",
    "q_component.construct_circuit().draw()\n"
   ]
  },
  {
   "cell_type": "code",
   "execution_count": 7,
   "metadata": {},
   "outputs": [],
   "source": [
    "# Import and create the PyTorchDiscriminator class\n",
    "from qiskit.aqua.components.neural_networks import PyTorchDiscriminator\n",
    "# Set the number data input and output dimension to 2.\n",
    "py_torch_disc = PyTorchDiscriminator(n_features = 2, n_out=2)\n"
   ]
  },
  {
   "cell_type": "code",
   "execution_count": null,
   "metadata": {},
   "outputs": [],
   "source": [
    "# Load the discriminator model, implements the torch.load(dir) \n",
    "discriminator_model = '/discriminator_model_directory'\n",
    "py_torch_disc.load_model(discriminator_model)\n"
   ]
  },
  {
   "cell_type": "code",
   "execution_count": 8,
   "metadata": {},
   "outputs": [],
   "source": [
    "# Parameters are defined in the Qiskit API as follows: \n",
    "###\n",
    "# data (tuple) – real_batch: torch.Tensor, Training data batch. generated_batch: numpy array, Generated data batch.\n",
    "# weights (tuple) – real problem, generated problem\n",
    "# penalty (bool) – Indicate whether or not penalty function is applied to the loss function.\n",
    "# quantum_instance (QuantumInstance) – Quantum Instance (depreciated)\n",
    "# shots (int) – Number of shots for hardware or qasm execution. Not used for classical network (only quantum ones)\n",
    "###\n",
    "result_dict = PyTorchDiscriminator.train(data, weights, penalty, quantum_instance=quantum_instance, shots=None)\n"
   ]
  },
  {
   "cell_type": "code",
   "execution_count": 9,
   "metadata": {},
   "outputs": [
    {
     "data": {
      "text/plain": [
       "<qiskit.circuit.instructionset.InstructionSet at 0x7efdb975e350>"
      ]
     },
     "execution_count": 9,
     "metadata": {},
     "output_type": "execute_result"
    }
   ],
   "source": [
    "# Import the CircuitStateFn class\n",
    "from qiskit.aqua.operators.state_fns import CircuitStateFn\n",
    "# Create the quantum circuit\n",
    "qc = QuantumCircuit(2)\n",
    "qc.h(0)\n",
    "qc.cx(0,1)\n"
   ]
  },
  {
   "cell_type": "code",
   "execution_count": 10,
   "metadata": {},
   "outputs": [
    {
     "name": "stdout",
     "output_type": "stream",
     "text": [
      "CircuitStateFn(\n",
      "     ┌───┐     \n",
      "q_0: ┤ H ├──■──\n",
      "     └───┘┌─┴─┐\n",
      "q_1: ─────┤ X ├\n",
      "          └───┘\n",
      ")\n"
     ]
    }
   ],
   "source": [
    "# Create the CircuitStateFn class with the quantum circuit\n",
    "csf = CircuitStateFn(primitive=qc, coeff=1, is_measurement=False)\n",
    "print(csf)\n"
   ]
  },
  {
   "cell_type": "code",
   "execution_count": 11,
   "metadata": {},
   "outputs": [
    {
     "name": "stdout",
     "output_type": "stream",
     "text": [
      "True\n"
     ]
    }
   ],
   "source": [
    "# Create a second quantum circuit with same width and operators\n",
    "qc2 = QuantumCircuit(2)\n",
    "qc2.h(0)\n",
    "qc2.cx(0,1)\n",
    "\n",
    "# Create the second circuit state function\n",
    "csf2 = CircuitStateFn(primitive=qc2, coeff=1, is_measurement=False)\n",
    "\n",
    "# Compare both circuit state functions using the equals operator\n",
    "print(csf.equals(csf2))\n"
   ]
  },
  {
   "cell_type": "code",
   "execution_count": 12,
   "metadata": {},
   "outputs": [
    {
     "name": "stdout",
     "output_type": "stream",
     "text": [
      "CircuitStateFn(\n",
      "     ┌───┐     \n",
      "q_0: ┤ H ├──■──\n",
      "     └───┘┌─┴─┐\n",
      "q_1: ─────┤ X ├\n",
      "          └───┘\n",
      ") * 2\n"
     ]
    }
   ],
   "source": [
    "# Add the two circuit state functions together\n",
    "added_csf = csf.add(csf2)\n",
    "print(added_csf)\n"
   ]
  },
  {
   "cell_type": "code",
   "execution_count": 13,
   "metadata": {},
   "outputs": [
    {
     "name": "stdout",
     "output_type": "stream",
     "text": [
      "SummedOp([\n",
      "  CircuitStateFn(\n",
      "       ┌───┐     \n",
      "  q_0: ┤ H ├──■──\n",
      "       └───┘┌─┴─┐\n",
      "  q_1: ─────┤ X ├\n",
      "            └───┘\n",
      "  ) * 2,\n",
      "  CircuitStateFn(\n",
      "       ┌───┐┌───┐\n",
      "  q_0: ┤ H ├┤ X ├\n",
      "       └───┘└─┬─┘\n",
      "  q_1: ───────■──\n",
      "                 \n",
      "  )\n",
      "])\n"
     ]
    }
   ],
   "source": [
    "# Create a quantum circuit\n",
    "qc3 = QuantumCircuit(2) \n",
    "qc3.h(0)\n",
    "qc3.cx(1,0) \n",
    "# Create a circuit state function from the quantum circuit\n",
    "csf3 = CircuitStateFn(primitive=qc3, coeff=1, is_measurement=False)\n",
    "print(added_csf.add(csf3))\n"
   ]
  },
  {
   "cell_type": "code",
   "execution_count": 14,
   "metadata": {},
   "outputs": [
    {
     "name": "stdout",
     "output_type": "stream",
     "text": [
      "Binary result:  110.\n"
     ]
    }
   ],
   "source": [
    "# Import the utils module\n",
    "from qiskit.aqua import utils \n",
    "# convert the number 6 from decimal to binary\n",
    "binary_value = utils.decimal_to_binary(6, max_num_digits=0)\n",
    "print('Binary result: ', binary_value)\n"
   ]
  },
  {
   "cell_type": "code",
   "execution_count": 15,
   "metadata": {},
   "outputs": [
    {
     "name": "stdout",
     "output_type": "stream",
     "text": [
      "Random Unitary result: \n",
      " [[ 0.62908478+0.34714688j -0.2728722 -0.46236552j -0.06999293+0.43657905j]\n",
      " [ 0.62861687+0.17592649j  0.22322343+0.20435486j -0.0264057 -0.69397683j]\n",
      " [ 0.23669704+0.04008236j  0.56588394+0.54767203j  0.03572391+0.56650016j]]\n"
     ]
    }
   ],
   "source": [
    "#Random Unitary matrix\n",
    "random_unitary = utils.random_unitary(N=3)\n",
    "print('Random Unitary result: \\n', random_unitary)\n"
   ]
  },
  {
   "cell_type": "code",
   "execution_count": 16,
   "metadata": {},
   "outputs": [],
   "source": [
    "# Create an array of random quantum circuits\n",
    "from qiskit.circuit.random import random_circuit\n",
    "quantum_circuits = []\n",
    "# Append a group of random circuits\n",
    "for x in range(2):\n",
    "    quantum_circuits.append(random_circuit(3, 5, measure=True))\n"
   ]
  },
  {
   "cell_type": "code",
   "execution_count": 17,
   "metadata": {},
   "outputs": [
    {
     "name": "stdout",
     "output_type": "stream",
     "text": [
      "Submitting 2 circuits.\n",
      "============================================================================\n",
      "0-th circuit: 3 qubits, 3 classical bits and 11 operations with depth 6\n",
      "op_counts: OrderedDict([('measure', 3), ('cswap', 2), ('cz', 1), ('ry', 1), ('id', 1), ('t', 1), ('h', 1), ('ccx', 1)])\n",
      "1-th circuit: 3 qubits, 3 classical bits and 9 operations with depth 6\n",
      "op_counts: OrderedDict([('measure', 3), ('cswap', 2), ('ccx', 2), ('crz', 1), ('u1', 1)])\n",
      "Average: 3.00 qubits, 3.00 classical bits and 10.00 operations with depth 6.00\n",
      "============================================================================\n",
      "\n"
     ]
    }
   ],
   "source": [
    "# Obtain and print a summary of all the quantum circuits\n",
    "circuits_summary = utils.summarize_circuits(quantum_circuits)\n",
    "print(circuits_summary)\n"
   ]
  },
  {
   "cell_type": "code",
   "execution_count": 18,
   "metadata": {},
   "outputs": [
    {
     "name": "stdout",
     "output_type": "stream",
     "text": [
      "Full coupling map:  [[0, 1], [0, 2], [0, 3], [0, 4], [1, 2], [1, 3], [1, 4], [2, 3], [2, 4], [3, 4]]\n"
     ]
    }
   ],
   "source": [
    "# Fully entangled coupling map\n",
    "full_coupling_map = utils.get_entangler_map(map_type=\"full\", num_qubits=5)\n",
    "print('Full coupling map: ', full_coupling_map) \n"
   ]
  },
  {
   "cell_type": "code",
   "execution_count": 19,
   "metadata": {},
   "outputs": [
    {
     "name": "stdout",
     "output_type": "stream",
     "text": [
      "Full coupling map:  [[0, 1], [1, 2], [2, 3], [3, 4]]\n"
     ]
    }
   ],
   "source": [
    "# Linearly entangled coupling map\n",
    "lin_coupling_map = utils.get_entangler_map(map_type=\"linear\", num_qubits=5)\n",
    "print('Full coupling map: ', lin_coupling_map)\n"
   ]
  },
  {
   "cell_type": "code",
   "execution_count": 20,
   "metadata": {},
   "outputs": [
    {
     "name": "stdout",
     "output_type": "stream",
     "text": [
      "[[0, 1], [0, 2], [0, 3], [0, 4], [1, 2], [1, 3], [1, 4], [2, 3], [2, 4], [3, 4]]\n"
     ]
    }
   ],
   "source": [
    "# Validate entangled coupling maps\n",
    "result = utils.validate_entangler_map(entangler_map=full_coupling_map, num_qubits=5, allow_double_entanglement=True)\n",
    "print(result)\n"
   ]
  },
  {
   "cell_type": "code",
   "execution_count": 21,
   "metadata": {},
   "outputs": [
    {
     "name": "stdout",
     "output_type": "stream",
     "text": [
      "[[ 8.66025404e-01  3.92523115e-17]\n",
      " [-8.66025404e-01  3.92523115e-17]]\n"
     ]
    }
   ],
   "source": [
    "# Import NumPy to create the array\n",
    "import numpy as np\n",
    "\n",
    "# Generate a 2x3 (NxD) array\n",
    "dim_map = np.array( [[ 0,1,0], [ 1,0,1]])\n",
    "# Reduce the D from 3 to 2, resulting in a 2x2 dimensional array\n",
    "reduced_dim = utils.reduce_dim_to_via_pca(x=dim_map, dim=2)\n",
    "print(reduced_dim)\n"
   ]
  },
  {
   "cell_type": "code",
   "execution_count": 22,
   "metadata": {},
   "outputs": [],
   "source": [
    "# Import the necessary modules and classes\n",
    "from qiskit import BasicAer\n",
    "from qiskit.aqua import QuantumInstance\n",
    "from qiskit.aqua.algorithms import Grover, DeutschJozsa, BernsteinVazirani, Simon\n",
    "from qiskit.aqua.components.oracles import LogicalExpressionOracle, TruthTableOracle, CustomCircuitOracle\n",
    "\n",
    "# State the SAT problem into a logical expression\n",
    "# A = Sophia, B = Angelina, C = Leo, D = Lex\n",
    "expression = '((A ^ B) & (C & D) & ~(A & C))'\n"
   ]
  },
  {
   "cell_type": "code",
   "execution_count": 23,
   "metadata": {},
   "outputs": [],
   "source": [
    "# Create an Oracle based on the Logical Expression\n",
    "oracle = LogicalExpressionOracle(expression)\n"
   ]
  },
  {
   "cell_type": "code",
   "execution_count": 24,
   "metadata": {},
   "outputs": [
    {
     "data": {
      "image/png": "[encoded data removed]",
      "text/plain": [
       "<Figure size 320.941x445.48 with 1 Axes>"
      ]
     },
     "execution_count": 24,
     "metadata": {},
     "output_type": "execute_result"
    }
   ],
   "source": [
    "# Construct the circuit from the oracle\n",
    "quantum_circuit = oracle.construct_circuit()\n",
    "quantum_circuit.draw()\n"
   ]
  },
  {
   "cell_type": "code",
   "execution_count": 25,
   "metadata": {},
   "outputs": [],
   "source": [
    "# Generate a quantum instance from a simulator\n",
    "quantum_instance = QuantumInstance(BasicAer.get_backend('qasm_simulator'), shots=1024)\n"
   ]
  },
  {
   "cell_type": "code",
   "execution_count": 26,
   "metadata": {},
   "outputs": [],
   "source": [
    "# Create the Grover algorithm with the Logical Expression Oracle\n",
    "grover = Grover(oracle)\n"
   ]
  },
  {
   "cell_type": "code",
   "execution_count": 27,
   "metadata": {},
   "outputs": [
    {
     "name": "stdout",
     "output_type": "stream",
     "text": [
      "Top result: 1110\n"
     ]
    },
    {
     "data": {
      "image/png": "[encoded data removed]",
      "text/plain": [
       "<Figure size 504x360 with 1 Axes>"
      ]
     },
     "execution_count": 27,
     "metadata": {},
     "output_type": "execute_result"
    }
   ],
   "source": [
    "# Run the Grover algorithm \n",
    "result = grover.run(quantum_instance)\n",
    "\n",
    "# Print the top measured result\n",
    "print('Top result:', result['top_measurement'])\n",
    "# Plot all measured results\n",
    "plot_histogram(result['measurement'])\n"
   ]
  },
  {
   "cell_type": "code",
   "execution_count": 28,
   "metadata": {},
   "outputs": [],
   "source": [
    "# Create the Truth Table expression for constant\n",
    "truth_table = '1111'\n",
    "\n",
    "# Create the Truth Table Oracle from the expression\n",
    "constant_oracle = TruthTableOracle(truth_table)\n"
   ]
  },
  {
   "cell_type": "code",
   "execution_count": 29,
   "metadata": {},
   "outputs": [
    {
     "data": {
      "image/png": "[encoded data removed]",
      "text/plain": [
       "<Figure size 1103.25x264.88 with 1 Axes>"
      ]
     },
     "execution_count": 29,
     "metadata": {},
     "output_type": "execute_result"
    }
   ],
   "source": [
    "# Create Deutsch-Jozsa algorithm\n",
    "dj = DeutschJozsa(oracle=constant_oracle, quantum_instance=quantum_instance)\n",
    "# Construct the circuit and draw the result\n",
    "dj_circuit = dj.construct_circuit(measurement=True)\n",
    "dj_circuit.draw()\n"
   ]
  },
  {
   "cell_type": "code",
   "execution_count": 30,
   "metadata": {},
   "outputs": [
    {
     "name": "stdout",
     "output_type": "stream",
     "text": [
      "{'measurement': {'00': 1024}, 'result': 'constant'}\n"
     ]
    }
   ],
   "source": [
    "# Run the algorithm on the quantum instance\n",
    "results = dj.run(quantum_instance)\n",
    "# Print the results that determines constant or balanced\n",
    "print(results)\n"
   ]
  },
  {
   "cell_type": "code",
   "execution_count": 31,
   "metadata": {},
   "outputs": [],
   "source": [
    "# Create the expression for secret value s: \n",
    "# (This ties x1=01, x2=10 XOR with s=11)\n",
    "s = '0110'\n",
    "\n",
    "# Create the Truth Table Oracle from the expression\n",
    "oracle_simon = TruthTableOracle(s) \n"
   ]
  },
  {
   "cell_type": "code",
   "execution_count": 32,
   "metadata": {},
   "outputs": [
    {
     "data": {
      "image/png": "[encoded data removed]",
      "text/plain": [
       "<Figure size 802.25x264.88 with 1 Axes>"
      ]
     },
     "execution_count": 32,
     "metadata": {},
     "output_type": "execute_result"
    }
   ],
   "source": [
    "# Create Simon algorithm\n",
    "simon = Simon(oracle=oracle_simon, quantum_instance=quantum_instance)\n",
    "simon_circuit = simon.construct_circuit(measurement=True)\n",
    "simon_circuit.draw()\n"
   ]
  },
  {
   "cell_type": "code",
   "execution_count": 33,
   "metadata": {},
   "outputs": [
    {
     "name": "stdout",
     "output_type": "stream",
     "text": [
      "Secret string s =  11\n"
     ]
    }
   ],
   "source": [
    "# Run the Simon algorithm to determine s, \n",
    "# where x1 XOR s = x2\n",
    "results = simon.run(quantum_instance)\n",
    "print('Secret string s = ', results['result'])\n"
   ]
  },
  {
   "cell_type": "code",
   "execution_count": null,
   "metadata": {},
   "outputs": [],
   "source": []
  }
 ],
 "metadata": {
  "kernelspec": {
   "display_name": "Python 3",
   "language": "python",
   "name": "python3"
  },
  "language_info": {
   "codemirror_mode": {
    "name": "ipython",
    "version": 3
   },
   "file_extension": ".py",
   "mimetype": "text/x-python",
   "name": "python",
   "nbconvert_exporter": "python",
   "pygments_lexer": "ipython3",
   "version": "3.7.8"
  }
 },
 "nbformat": 4,
 "nbformat_minor": 4
}
